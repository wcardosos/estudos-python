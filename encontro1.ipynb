{
 "cells": [
  {
   "cell_type": "markdown",
   "metadata": {},
   "source": [
    "# Encontro 1 - Python Básico\n",
    "\n",
    "Este é o nosso primeiro encontro. Iremos abordar os seguintes assuntos:\n",
    "* Básico do básico\n",
    "* Estruturas de decisão\n",
    "* Estruturas de repetição\n",
    "* Estruturas de dados simples\n",
    "* Funções\n",
    "* Manipulação de Arquivos\n",
    "* Exemplo de programa funcional"
   ]
  },
  {
   "cell_type": "markdown",
   "metadata": {},
   "source": [
    "## Básico do básico\n",
    "Variáveis em Python são declaradas da seguinte maneira:"
   ]
  },
  {
   "cell_type": "code",
   "execution_count": 2,
   "metadata": {},
   "outputs": [],
   "source": [
    "variavel = 1"
   ]
  },
  {
   "cell_type": "markdown",
   "metadata": {},
   "source": [
    "Os tipos de dados básicos em Python são **int**, **float**, **str** e **bool**"
   ]
  },
  {
   "cell_type": "code",
   "execution_count": 3,
   "metadata": {},
   "outputs": [],
   "source": [
    "string = \"Wagner\"    # str com aspas duplas\n",
    "string = 'Ramon'     # str com aspas simples\n",
    "inteiro = 1          # int\n",
    "flutuante = 1.5      # float\n",
    "booleano = True      # bool"
   ]
  },
  {
   "cell_type": "markdown",
   "metadata": {},
   "source": [
    "Você pode receber dados do usuário (pela linha de comando) através da função **input**.\n",
    "No exemplo abaixo, vemos um dado do tipo inteiro recebido do usuário.\n",
    "O retorno da função _input_ é sempre do tipo **str**.\n",
    "Para que possamos usar o retorno como outro tipo de dado, é necessário que façamos _**casting**_ (ou **conversão**) para o tipo desejado.\n",
    "No nosso exemplo, é feito um _casting_ para o tipo **int**."
   ]
  },
  {
   "cell_type": "code",
   "execution_count": 8,
   "metadata": {},
   "outputs": [
    {
     "name": "stdout",
     "output_type": "stream",
     "text": [
      "Digite sua idade:22\n",
      "Que massa! Você tem 22 anos\n",
      "23\n"
     ]
    }
   ],
   "source": [
    "idade = int(input(\"Digite sua idade:\"))\n",
    "print(f\"Que massa! Você tem {idade} anos\")\n",
    "\n",
    "idade_ano_que_vem = idade + 1\n",
    "print(idade_ano_que_vem)"
   ]
  },
  {
   "cell_type": "markdown",
   "metadata": {},
   "source": [
    "A função **print** mostra algo na tela. Comentários são definidos a partir de \"#\".\\\n",
    "PS.: comentários podem ser feitos também através de **\"'''\"**. Esses comentários são chamados de **comentários multi-linhas\"**."
   ]
  },
  {
   "cell_type": "code",
   "execution_count": 9,
   "metadata": {
    "scrolled": true
   },
   "outputs": [
    {
     "name": "stdout",
     "output_type": "stream",
     "text": [
      "Olá mundo!\n"
     ]
    }
   ],
   "source": [
    "# Este é um comentário simples\n",
    "'''\n",
    "    Este é um comentário\n",
    "    multi-linha\n",
    "'''\n",
    "print(\"Olá mundo!\")"
   ]
  },
  {
   "cell_type": "markdown",
   "metadata": {},
   "source": [
    "Para utilizarmos variáveis dentro de um _print_ usamos **format strings**:"
   ]
  },
  {
   "cell_type": "code",
   "execution_count": 16,
   "metadata": {},
   "outputs": [
    {
     "name": "stdout",
     "output_type": "stream",
     "text": [
      "Meu nome é Bruno, tá certo ? Com licença...\n"
     ]
    }
   ],
   "source": [
    "nome = \"Bruno\"\n",
    "print(f\"Meu nome é {nome}, tá certo ? Com licença...\")"
   ]
  },
  {
   "cell_type": "markdown",
   "metadata": {},
   "source": [
    "As **operações aritméticas** em Python são feitas da seguinte maneira:"
   ]
  },
  {
   "cell_type": "code",
   "execution_count": 17,
   "metadata": {},
   "outputs": [
    {
     "data": {
      "text/plain": [
       "4"
      ]
     },
     "execution_count": 17,
     "metadata": {},
     "output_type": "execute_result"
    }
   ],
   "source": [
    "2 + 2    # adição\n",
    "2 - 2    # subtração\n",
    "2 / 2    # divisão\n",
    "2 * 2    # multiplicação\n",
    "2 % 2    # resto da divisão\n",
    "2 ** 2   # potenciação"
   ]
  },
  {
   "cell_type": "markdown",
   "metadata": {},
   "source": [
    "A adição \"pode\" ser feita com strings. Chamamos este caso de **concatenação**."
   ]
  },
  {
   "cell_type": "code",
   "execution_count": 20,
   "metadata": {},
   "outputs": [
    {
     "name": "stdout",
     "output_type": "stream",
     "text": [
      "Meu nome é Hugo. Me solta, eu tenho que explicar isso aqui.\n"
     ]
    }
   ],
   "source": [
    "nome = \"Hugo\"\n",
    "zuera = \"Me solta, eu tenho que explicar isso aqui.\"\n",
    "print(\"Meu nome é \" + nome + \". \" + zuera)"
   ]
  },
  {
   "cell_type": "markdown",
   "metadata": {},
   "source": [
    "## Estruturas de Decisão"
   ]
  },
  {
   "cell_type": "markdown",
   "metadata": {},
   "source": [
    "É a forma de fazermos o programa tomar decisões. Há 3 formas de definirmos: **if**, **elif** e **else**"
   ]
  },
  {
   "cell_type": "code",
   "execution_count": 25,
   "metadata": {},
   "outputs": [
    {
     "name": "stdout",
     "output_type": "stream",
     "text": [
      "1 é igual a 1\n"
     ]
    }
   ],
   "source": [
    "v = 1\n",
    "if v > 1:\n",
    "    print(f\"{v} é maior que 1\")\n",
    "elif v == 1:\n",
    "    print(f\"{v} é igual a 1\")\n",
    "else:\n",
    "    print(f\"{v} não é maior que 1\")"
   ]
  },
  {
   "cell_type": "markdown",
   "metadata": {},
   "source": [
    "Os **operadores lógicos** são: **and**, **or** e **not**"
   ]
  },
  {
   "cell_type": "code",
   "execution_count": 28,
   "metadata": {},
   "outputs": [
    {
     "name": "stdout",
     "output_type": "stream",
     "text": [
      "False\n",
      "True\n",
      "False\n"
     ]
    }
   ],
   "source": [
    "print(True and True) # True\n",
    "print(False or True) # True\n",
    "print(not True)      # False"
   ]
  },
  {
   "cell_type": "markdown",
   "metadata": {},
   "source": [
    "Os **operadores de comparação** são: >, >=, <, <=, == e !="
   ]
  },
  {
   "cell_type": "code",
   "execution_count": 39,
   "metadata": {},
   "outputs": [
    {
     "data": {
      "text/plain": [
       "False"
      ]
     },
     "execution_count": 39,
     "metadata": {},
     "output_type": "execute_result"
    }
   ],
   "source": [
    "2 > 2     # Maior que\n",
    "2 >= 2    # Maior ou igual que\n",
    "2 < 2     # Menor que\n",
    "2 <= 2    # Menor ou igual que\n",
    "2 == 2    # Igualdade\n",
    "2 != 2    # Desigualdade"
   ]
  },
  {
   "cell_type": "markdown",
   "metadata": {},
   "source": [
    "## Estruturas de repetição"
   ]
  },
  {
   "cell_type": "markdown",
   "metadata": {},
   "source": [
    "As estruturas de repetição mais usuais em Python são: **while** e **for**"
   ]
  },
  {
   "cell_type": "code",
   "execution_count": 1,
   "metadata": {},
   "outputs": [
    {
     "name": "stdout",
     "output_type": "stream",
     "text": [
      "1\n",
      "2\n",
      "3\n",
      "4\n",
      "5\n",
      "6\n",
      "7\n",
      "8\n",
      "9\n",
      "10\n"
     ]
    }
   ],
   "source": [
    "x = 1\n",
    "while x <= 10:\n",
    "    print(x)\n",
    "    x += 1     # O mesmo que x = x + 1; funciona com as outras operações matemáticas básicas: x *= 2\n",
    "\n",
    "    "
   ]
  },
  {
   "cell_type": "code",
   "execution_count": 2,
   "metadata": {},
   "outputs": [
    {
     "name": "stdout",
     "output_type": "stream",
     "text": [
      "Bruno\n",
      "Hugo\n",
      "Ramon\n",
      "Wagner\n"
     ]
    }
   ],
   "source": [
    "estudantes_python = [\"Bruno\", \"Hugo\", \"Ramon\", \"Wagner\"]\n",
    "for estudante in estudantes_python:\n",
    "    print(estudante)"
   ]
  },
  {
   "cell_type": "code",
   "execution_count": 3,
   "metadata": {},
   "outputs": [
    {
     "name": "stdout",
     "output_type": "stream",
     "text": [
      "Bruno\n",
      "Hugo\n",
      "Ramon\n",
      "Wagner\n"
     ]
    }
   ],
   "source": [
    "# O exemplo acima usando while\n",
    "indice_estudante = 0\n",
    "while indice_estudante < len(estudantes_python): # len é uma função que retorna o número de elementos de uma lista/string\n",
    "    print(estudantes_python[indice_estudante])\n",
    "    indice_estudante += 1"
   ]
  },
  {
   "cell_type": "markdown",
   "metadata": {},
   "source": [
    "## Estruturas de dados simples"
   ]
  },
  {
   "cell_type": "markdown",
   "metadata": {},
   "source": [
    "Há estruturas de dados que iremos utilizar muito no nosso dia-a-dia como programadores Python. São elas:\n",
    "* **Listas**\n",
    "* **Dicionários**\n",
    "* **Tuplas**"
   ]
  },
  {
   "cell_type": "code",
   "execution_count": null,
   "metadata": {},
   "outputs": [],
   "source": [
    "lista_de_compras = [\"Arroz\", \"Feijão\"]                      # Exemplo de uma lista\n",
    "lista_de_compras_detalhada = { \"Arroz\": 3, \"Feijão\": 2 }    # Exemplo de um dicionário\n",
    "lista_de_compras_fechada = (\"Arroz\", \"Feijão\")              # Exemplo de uma tupla"
   ]
  },
  {
   "cell_type": "markdown",
   "metadata": {},
   "source": [
    "Uma *lista* é um conjunto de elementos, conhecida em outras linguagens como **arrays**.\\\n",
    "Exemplos de como utilizar uma lista:"
   ]
  },
  {
   "cell_type": "code",
   "execution_count": 9,
   "metadata": {},
   "outputs": [
    {
     "name": "stdout",
     "output_type": "stream",
     "text": [
      "['Macarrão', 'Feijão']\n",
      "['Feijão', 'Macarrão']\n"
     ]
    }
   ],
   "source": [
    "lista_de_compras = []\n",
    "\n",
    "# Como se adiciona valores a uma lista\n",
    "lista_de_compras.append(\"Arroz\")\n",
    "lista_de_compras.append(\"Macarrão\")\n",
    "lista_de_compras.append(\"Feijão\")\n",
    "\n",
    "# Como se remove valores de uma lista\n",
    "lista_de_compras.pop(0)\n",
    "\n",
    "\n",
    "# Há diversos métodos que manipulam listas. Fique à vontade para procurá-los na internet\n",
    "# Abaixo temos um exemplo do método sort, que ordena a lista (neste caso, alfabeticamente)\n",
    "print(lista_de_compras)\n",
    "\n",
    "lista_de_compras.sort()\n",
    "\n",
    "print(lista_de_compras)"
   ]
  },
  {
   "cell_type": "markdown",
   "metadata": {},
   "source": [
    "*Dicionários* são um pouco diferentes das listas. Um *dicionário* utiliza a estrutura **chave/valor**, enquanto as listas utilizam a estrutura de *índices*.\\\n",
    "Vamos utilizar o mesmo exemplo que utilizamos com as *listas*, porém agora com o uso de *dicionários*:"
   ]
  },
  {
   "cell_type": "code",
   "execution_count": 14,
   "metadata": {},
   "outputs": [
    {
     "name": "stdout",
     "output_type": "stream",
     "text": [
      "{'Arroz': 2, 'Macarrão': 4, 'Feijão': 3}\n",
      "{'Macarrão': 4, 'Feijão': 3}\n",
      "dict_values([4, 3])\n"
     ]
    }
   ],
   "source": [
    "# Neste exemplo, a chave será o nome do produto e seu valor a quantidade que devemos comprar deste produto\n",
    "lista_de_compras = {}\n",
    "\n",
    "# Como se adiciona valores a uma lista\n",
    "lista_de_compras[\"Arroz\"] = 2\n",
    "lista_de_compras[\"Macarrão\"] = 4\n",
    "lista_de_compras[\"Feijão\"] = 3\n",
    "\n",
    "print(lista_de_compras)\n",
    "\n",
    "# Como se remove valores de uma lista\n",
    "lista_de_compras.pop(\"Arroz\")\n",
    "print(lista_de_compras)\n",
    "\n",
    "\n",
    "# Pesquise sobre métodos que podemos usar nos dicionários\n",
    "print(lista_de_compras.values())\n"
   ]
  },
  {
   "cell_type": "markdown",
   "metadata": {},
   "source": [
    "As *tuplas* possuem uma característica disruptiva em relação às estruturas de dados que vimos até agora: ela é **imutável**, ou seja, uma vez criada, seus valores continuarão os mesmos. Veja os exemplos abaixo:"
   ]
  },
  {
   "cell_type": "code",
   "execution_count": 16,
   "metadata": {},
   "outputs": [
    {
     "name": "stdout",
     "output_type": "stream",
     "text": [
      "Arroz\n",
      "Arroz\n",
      "Feijão\n",
      "Macarrão\n"
     ]
    }
   ],
   "source": [
    "lista_de_compras_fechada = (\"Arroz\", \"Feijão\", \"Macarrão\")\n",
    "print(lista_de_compras_fechada[0])\n",
    "\n",
    "for compra in lista_de_compras_fechada:\n",
    "    print(compra)"
   ]
  },
  {
   "cell_type": "markdown",
   "metadata": {},
   "source": [
    "## Funções"
   ]
  },
  {
   "cell_type": "markdown",
   "metadata": {},
   "source": [
    "Funções em Python são bem simples,como podemos ver a seguir:"
   ]
  },
  {
   "cell_type": "code",
   "execution_count": 17,
   "metadata": {},
   "outputs": [
    {
     "name": "stdout",
     "output_type": "stream",
     "text": [
      "Olá Wagner, tudo bem ?\n",
      "Olá Ramon, tudo bem ?\n",
      "Olá Hugo, tudo bem ?\n",
      "Olá Bruno, tudo bem ?\n"
     ]
    }
   ],
   "source": [
    "def boas_vindas(nome):\n",
    "    print(f\"Olá {nome}, tudo bem ?\")\n",
    "    \n",
    "boas_vindas(\"Wagner\")\n",
    "boas_vindas(\"Ramon\")\n",
    "boas_vindas(\"Hugo\")\n",
    "boas_vindas(\"Bruno\")"
   ]
  },
  {
   "cell_type": "markdown",
   "metadata": {},
   "source": [
    "O *nome* ali em cima é um **parâmetro**, variáveis que podemos passar para dentro das funções. Cada nome nosso nas execuções são chamados de **argumentos**."
   ]
  },
  {
   "cell_type": "markdown",
   "metadata": {},
   "source": [
    "Nem sempre funções são simples como a do exemplo acima. Normalmente nós passamos um valor para uma função (entrada) esperando algo em troca (saída). É isso que chamamos de **retorno** de uma função."
   ]
  },
  {
   "cell_type": "code",
   "execution_count": 19,
   "metadata": {},
   "outputs": [
    {
     "name": "stdout",
     "output_type": "stream",
     "text": [
      "3\n"
     ]
    }
   ],
   "source": [
    "def soma(numero1, numero2):\n",
    "    return numero1 + numero2\n",
    "\n",
    "soma(1, 2)\n",
    "\n",
    "print(soma(1,2))"
   ]
  },
  {
   "cell_type": "markdown",
   "metadata": {},
   "source": [
    "## Manipulação de Arquivos"
   ]
  },
  {
   "cell_type": "markdown",
   "metadata": {},
   "source": [
    "Ao terminar os programas que fizemos até agora, todos os dados são perdidos pois eles estão em memória. Para podermos **persistir** esses dados iremos utilizar **arquivos**"
   ]
  },
  {
   "cell_type": "markdown",
   "metadata": {},
   "source": [
    "Podemos fazer 3 operações com arquivos na programação (até onde sei :3): **escrever**, **ler** e **adicionar**"
   ]
  },
  {
   "cell_type": "markdown",
   "metadata": {},
   "source": [
    "Para ler um arquivo, fazemos o seguinte:"
   ]
  },
  {
   "cell_type": "code",
   "execution_count": 45,
   "metadata": {},
   "outputs": [
    {
     "data": {
      "text/plain": [
       "30"
      ]
     },
     "execution_count": 45,
     "metadata": {},
     "output_type": "execute_result"
    }
   ],
   "source": [
    "nome_arquivo = \"teste.txt\"\n",
    "arquivo = open(nome_arquivo, 'w')\n",
    "\n",
    "arquivo.write(\"Escrevendo arquivos com Python\")"
   ]
  },
  {
   "cell_type": "markdown",
   "metadata": {},
   "source": [
    "**É MUITO IMPORTANTE SEMPRE FECHAR OS ARQUIVOS QUE ABRIRMOS**"
   ]
  },
  {
   "cell_type": "code",
   "execution_count": 46,
   "metadata": {},
   "outputs": [],
   "source": [
    "arquivo.close()"
   ]
  },
  {
   "cell_type": "markdown",
   "metadata": {},
   "source": [
    "Podemos ler arquivos da seguinte maneira:"
   ]
  },
  {
   "cell_type": "code",
   "execution_count": 47,
   "metadata": {},
   "outputs": [
    {
     "name": "stdout",
     "output_type": "stream",
     "text": [
      "Escrevendo arquivos com Python\n"
     ]
    }
   ],
   "source": [
    "nome_arquivo = \"teste.txt\"\n",
    "arquivo = open(nome_arquivo, 'r')\n",
    "\n",
    "# Quando o arquivo tiver mais de 1 linha,o método readlines() retorna uma lista onde cada elemento\n",
    "# da lista é uma linha do arquivo\n",
    "print(arquivo.readline())\n",
    "\n",
    "arquivo.close()"
   ]
  },
  {
   "cell_type": "markdown",
   "metadata": {},
   "source": [
    "Por fim, para adicionar um valor ao fim do arquivo utilizamos:"
   ]
  },
  {
   "cell_type": "code",
   "execution_count": 48,
   "metadata": {},
   "outputs": [
    {
     "name": "stdout",
     "output_type": "stream",
     "text": [
      "['Escrevendo arquivos com Python\\n', 'Adicionando conteúdo a um arquivo com Python']\n"
     ]
    }
   ],
   "source": [
    "nome_arquivo = \"teste.txt\"\n",
    "arquivo = open(nome_arquivo, 'a')\n",
    "\n",
    "arquivo.write(\"\\nAdicionando conteúdo a um arquivo com Python\")\n",
    "\n",
    "arquivo.close()\n",
    "\n",
    "# Vendo se o conteúdo foi mudado\n",
    "arquivo = open(nome_arquivo, 'r')\n",
    "\n",
    "linhas = arquivo.readlines()\n",
    "\n",
    "arquivo.close()\n",
    "\n",
    "print(linhas)"
   ]
  },
  {
   "cell_type": "markdown",
   "metadata": {},
   "source": [
    "## Exemplo de programa funcional"
   ]
  },
  {
   "cell_type": "markdown",
   "metadata": {},
   "source": [
    "Para mostrar na prática o conteúdo acima passado, iremos fazer um programa que gerencia sua lista de compras.\\\n",
    "Nosso programa irá perguntar o que iremos fazer com a lista de compras e a partir daí manipular a lista em si. Os dados da lista de compras serão salvos em arquivo chamado **lista_de_compras.txt**. O código estará comentado explicando o que cada coisa irá fazer.\\\n",
    "Importante ressaltar que a abordagem que utilizarei não é a única e nem a melhor, apenas uma das várias formas de resolver o problema.\\\n",
    "Sintam-se à vontade para fazerem o programa de uma maneira diferente desta apresentada. Bora codar ?"
   ]
  },
  {
   "cell_type": "code",
   "execution_count": 74,
   "metadata": {},
   "outputs": [],
   "source": [
    "# Primeiramente farei uma função que servirá como apresentação do menu\n",
    "def menu():\n",
    "    print(\"Lista de Compras\")\n",
    "    print(\"Opções:\")\n",
    "    print(\"1- Criar nova lista\")\n",
    "    print(\"2- Ver produtos na lista\")\n",
    "    print(\"3- Adicionar produtos na lista\")\n",
    "    \n",
    "def opcao_valida(opcao):\n",
    "    return opcao > 0 and opcao < 4\n",
    "\n",
    "def escreve_arquivo(lista_de_produtos):\n",
    "    arquivo = open('lista_de_compras.txt', 'w')\n",
    "    \n",
    "    for produto in lista_de_produtos:\n",
    "        arquivo.write(f\"{produto}\\n\")\n",
    "        \n",
    "    arquivo.close()\n",
    "    \n",
    "def mostra_conteudo_arquivo():\n",
    "    arquivo = open('lista_de_compras.txt', 'r')\n",
    "    \n",
    "    lista_de_produtos = arquivo.readlines()\n",
    "    \n",
    "    arquivo.close()\n",
    "    \n",
    "    for produto in lista_de_produtos:\n",
    "        print(produto)\n",
    "    \n",
    "def adiciona_arquivo(lista_de_produtos):\n",
    "    arquivo = open('lista_de_compras.txt', 'a')\n",
    "    \n",
    "    for produto in lista_de_produtos:\n",
    "        arquivo.write(f\"{produto}\\n\")\n",
    "        \n",
    "    arquivo.close()\n",
    "# Função que servirá para organizar a lógica do programa\n",
    "def main():\n",
    "    while True:\n",
    "        menu()\n",
    "\n",
    "        opcao = int(input(\"Digite o número da opção que você deseja: \"))\n",
    "\n",
    "        if not opcao_valida(opcao):\n",
    "            print(\"Opção inválida!\")\n",
    "            break\n",
    "    \n",
    "        if opcao == 1:\n",
    "            print(\"Criando nova lista de compras\")\n",
    "            produtos = []\n",
    "            \n",
    "            while True:\n",
    "                produto = input(\"Digite o nome do produto para adicionar na lista: \")\n",
    "                produtos.append(produto)\n",
    "                \n",
    "                continuar = input(\"Adicionar mais produtos (s ou n): \")\n",
    "                if continuar.lower() == \"n\":\n",
    "                    break\n",
    "            \n",
    "            escreve_arquivo(produtos)\n",
    "            \n",
    "        if opcao == 2:\n",
    "            print(\"Produtos na atual lista de compras: \\n\")\n",
    "            \n",
    "            mostra_conteudo_arquivo()\n",
    "            \n",
    "        if opcao == 3:\n",
    "            print(\"Adicionando produtos na lista de compras\")\n",
    "            \n",
    "            produtos = []\n",
    "            \n",
    "            while True:\n",
    "                produto = input(\"Digite o nome do produto para adicionar na lista: \")\n",
    "                produtos.append(produto)\n",
    "                \n",
    "                continuar = input(\"Adicionar mais produtos ? (s ou n) \")\n",
    "                if continuar.lower() == \"n\":\n",
    "                    break\n",
    "                    \n",
    "            adiciona_arquivo(produtos)\n",
    "            \n",
    "        volta_menu = input(\"Voltar ao menu inicial ? (s ou n) \")\n",
    "        \n",
    "        if volta_menu == \"n\":\n",
    "            break\n",
    "            "
   ]
  },
  {
   "cell_type": "code",
   "execution_count": 73,
   "metadata": {},
   "outputs": [
    {
     "name": "stdout",
     "output_type": "stream",
     "text": [
      "Lista de Compras\n",
      "Opções:\n",
      "1- Criar nova lista\n",
      "2- Ver produtos na lista\n",
      "3- Adicionar produtos na lista\n",
      "Digite o número da opção que você deseja: 2\n",
      "Produtos na atual lista de compras: \n",
      "\n",
      "Arroz\n",
      "\n",
      "Feijão\n",
      "\n",
      "Macarrão\n",
      "\n",
      "Voltar ao menu inicial ? (s ou n)s\n",
      "Lista de Compras\n",
      "Opções:\n",
      "1- Criar nova lista\n",
      "2- Ver produtos na lista\n",
      "3- Adicionar produtos na lista\n",
      "Digite o número da opção que você deseja: 3\n",
      "Adicionando produtos na lista de compras\n",
      "Digite o nome do produto para adicionar na lista:Açúcar\n",
      "Adicionar mais produtos ? (s ou n)n\n",
      "Voltar ao menu inicial ? (s ou n)s\n",
      "Lista de Compras\n",
      "Opções:\n",
      "1- Criar nova lista\n",
      "2- Ver produtos na lista\n",
      "3- Adicionar produtos na lista\n",
      "Digite o número da opção que você deseja: 2\n",
      "Produtos na atual lista de compras: \n",
      "\n",
      "Arroz\n",
      "\n",
      "Feijão\n",
      "\n",
      "Macarrão\n",
      "\n",
      "Açúcar\n",
      "\n",
      "Voltar ao menu inicial ? (s ou n)n\n"
     ]
    }
   ],
   "source": [
    "main()"
   ]
  },
  {
   "cell_type": "code",
   "execution_count": null,
   "metadata": {},
   "outputs": [],
   "source": []
  }
 ],
 "metadata": {
  "kernelspec": {
   "display_name": "Python 3",
   "language": "python",
   "name": "python3"
  },
  "language_info": {
   "codemirror_mode": {
    "name": "ipython",
    "version": 3
   },
   "file_extension": ".py",
   "mimetype": "text/x-python",
   "name": "python",
   "nbconvert_exporter": "python",
   "pygments_lexer": "ipython3",
   "version": "3.8.3"
  }
 },
 "nbformat": 4,
 "nbformat_minor": 4
}

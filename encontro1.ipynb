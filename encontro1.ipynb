{
 "cells": [
  {
   "cell_type": "markdown",
   "metadata": {},
   "source": [
    "# Encontro 1 - Python Básico\n",
    "\n",
    "Este é o nosso primeiro encontro. Iremos abordar os seguintes assuntos:\n",
    "* Básico do básico\n",
    "* Estruturas de decisão\n",
    "* Estruturas de repetição\n",
    "* Estruturas de dados simples\n",
    "* Funções"
   ]
  },
  {
   "cell_type": "markdown",
   "metadata": {},
   "source": [
    "## Básico do básico\n",
    "Variáveis em Python são declaradas da seguinte maneira:"
   ]
  },
  {
   "cell_type": "code",
   "execution_count": 20,
   "metadata": {},
   "outputs": [],
   "source": [
    "variavel = 1"
   ]
  },
  {
   "cell_type": "markdown",
   "metadata": {},
   "source": [
    "Os tipos de dados básicos em Python são **int**, **float**, **str** e **bool**"
   ]
  },
  {
   "cell_type": "code",
   "execution_count": 21,
   "metadata": {},
   "outputs": [],
   "source": [
    "string = \"Wagner\"    # str\n",
    "inteiro = 1          # int\n",
    "flutuante = 1.5      # float\n",
    "booleano = True      # bool"
   ]
  },
  {
   "cell_type": "markdown",
   "metadata": {},
   "source": [
    "Você pode receber dados do usuário (pela linha de comando) através da função **input**.\n",
    "No exemplo abaixo, vemos um dado do tipo inteiro recebido do usuário.\n",
    "O retorno da função _input_ é sempre do tipo **str**.\n",
    "Para que possamos usar o retorno como outro tipo de dado, é necessário que façamos _**casting**_ (ou **conversão**) para o tipo desejado.\n",
    "No nosso exemplo, é feito um _casting_ para o tipo **int**."
   ]
  },
  {
   "cell_type": "code",
   "execution_count": 22,
   "metadata": {},
   "outputs": [
    {
     "name": "stdout",
     "output_type": "stream",
     "text": [
      "Digite sua idade:22\n",
      "Que massa! Você tem 22 anos\n"
     ]
    }
   ],
   "source": [
    "idade = int(input(\"Digite sua idade:\"))\n",
    "print(f\"Que massa! Você tem {idade} anos\")"
   ]
  },
  {
   "cell_type": "markdown",
   "metadata": {},
   "source": [
    "A função **print** mostra algo na tela. Comentários são definidos a partir de \"#\".\\\n",
    "PS.: comentários podem ser feitos também através de **\"'''\"**. Esses comentários são chamados de **comentários multi-linhas\"**."
   ]
  },
  {
   "cell_type": "code",
   "execution_count": 23,
   "metadata": {
    "scrolled": true
   },
   "outputs": [
    {
     "name": "stdout",
     "output_type": "stream",
     "text": [
      "Olá mundo!\n"
     ]
    }
   ],
   "source": [
    "# Este é um comentário simples\n",
    "'''\n",
    "    Este é um comentário\n",
    "    multi-linha\n",
    "'''\n",
    "print(\"Olá mundo!\")"
   ]
  },
  {
   "cell_type": "markdown",
   "metadata": {},
   "source": [
    "Para utilizarmos variáveis dentro de um _print_ usamos **format strings**:"
   ]
  },
  {
   "cell_type": "code",
   "execution_count": 24,
   "metadata": {},
   "outputs": [
    {
     "name": "stdout",
     "output_type": "stream",
     "text": [
      "Meu nome é Bruno, tá certo ? Com licença...\n"
     ]
    }
   ],
   "source": [
    "nome = \"Bruno\"\n",
    "print(f\"Meu nome é {nome}, tá certo ? Com licença...\")"
   ]
  },
  {
   "cell_type": "markdown",
   "metadata": {},
   "source": [
    "As **operações aritméticas** em Python são feitas da seguinte maneira:"
   ]
  },
  {
   "cell_type": "code",
   "execution_count": 25,
   "metadata": {},
   "outputs": [
    {
     "data": {
      "text/plain": [
       "4"
      ]
     },
     "execution_count": 25,
     "metadata": {},
     "output_type": "execute_result"
    }
   ],
   "source": [
    "2 + 2    # adição\n",
    "2 - 2    # subtração\n",
    "2 / 2    # divisão\n",
    "2 * 2    # multiplicação\n",
    "2 % 2    # resto da divisão\n",
    "2 ** 2   # potenciação"
   ]
  },
  {
   "cell_type": "markdown",
   "metadata": {},
   "source": [
    "A adição \"pode\" ser feita com strings. Chamamos este caso de **concatenação**."
   ]
  },
  {
   "cell_type": "code",
   "execution_count": 19,
   "metadata": {},
   "outputs": [
    {
     "name": "stdout",
     "output_type": "stream",
     "text": [
      "Meu nome é Hugo. Me solta, eu tenho que explicar isso aqui.\n"
     ]
    }
   ],
   "source": [
    "nome = \"Hugo\"\n",
    "zuera = \"Me solta, eu tenho que explicar isso aqui.\"\n",
    "print(\"Meu nome é \" + nome + \". \" + zuera)"
   ]
  },
  {
   "cell_type": "code",
   "execution_count": null,
   "metadata": {},
   "outputs": [],
   "source": []
  }
 ],
 "metadata": {
  "kernelspec": {
   "display_name": "Python 3",
   "language": "python",
   "name": "python3"
  },
  "language_info": {
   "codemirror_mode": {
    "name": "ipython",
    "version": 3
   },
   "file_extension": ".py",
   "mimetype": "text/x-python",
   "name": "python",
   "nbconvert_exporter": "python",
   "pygments_lexer": "ipython3",
   "version": "3.8.3"
  }
 },
 "nbformat": 4,
 "nbformat_minor": 4
}

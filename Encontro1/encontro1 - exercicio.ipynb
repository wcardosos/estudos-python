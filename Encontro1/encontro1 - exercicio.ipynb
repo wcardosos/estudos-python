{
 "cells": [
  {
   "cell_type": "markdown",
   "metadata": {},
   "source": [
    "# Encontro 1 - Exercício"
   ]
  },
  {
   "cell_type": "markdown",
   "metadata": {},
   "source": [
    "Fala gente, tudo bem ? Como vocês sabem, domingo passado foi dia de eleição. Você, com o espírito preguiçoso do programadir correndo em suas veias, decidiu fazer um programa para poder acessar os resultados de maneira mais rápida. O programa irá **salvar um arquivo _.txt_** com os dados da eleição."
   ]
  },
  {
   "cell_type": "markdown",
   "metadata": {},
   "source": [
    "## Requisitos"
   ]
  },
  {
   "cell_type": "markdown",
   "metadata": {},
   "source": [
    "O programa deverá conter os seguintes requisitos:\n",
    "* menu para o usuário escolher entre as seguintes opções: adicionar, remover e mostrar dados de prefeitos e vereadores\n",
    "* os dados deverão ser: **nome**, **partido** e **número de votos**\n",
    "* é **OBRIGATÓRIO** o uso de **TODOS** os assuntos abordados no nosso primeiro encontro\n",
    "* **Façam validações** (por exemplo: votação menor que 0)"
   ]
  },
  {
   "cell_type": "markdown",
   "metadata": {},
   "source": [
    "## Instruções de entrega"
   ]
  },
  {
   "cell_type": "markdown",
   "metadata": {},
   "source": [
    "* vocês deverão copiar este notebook e renomear com a estrutura **encontro 1 - exercicio NOME**\n",
    "* adicionar uma célula abaixo desta e começar seus códigos\n",
    "* subir na pasta compartilhada e me avisar"
   ]
  }
 ],
 "metadata": {
  "kernelspec": {
   "display_name": "Python 3",
   "language": "python",
   "name": "python3"
  },
  "language_info": {
   "codemirror_mode": {
    "name": "ipython",
    "version": 3
   },
   "file_extension": ".py",
   "mimetype": "text/x-python",
   "name": "python",
   "nbconvert_exporter": "python",
   "pygments_lexer": "ipython3",
   "version": "3.8.3"
  }
 },
 "nbformat": 4,
 "nbformat_minor": 4
}
